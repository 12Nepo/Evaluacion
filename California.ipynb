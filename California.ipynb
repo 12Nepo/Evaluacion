{
  "cells": [
    {
      "cell_type": "markdown",
      "metadata": {
        "id": "view-in-github",
        "colab_type": "text"
      },
      "source": [
        "<a href=\"https://colab.research.google.com/github/12Nepo/Evaluacion/blob/main/California.ipynb\" target=\"_parent\"><img src=\"https://colab.research.google.com/assets/colab-badge.svg\" alt=\"Open In Colab\"/></a>"
      ]
    },
    {
      "cell_type": "code",
      "execution_count": null,
      "metadata": {
        "id": "vM1sGSOBygvU"
      },
      "outputs": [],
      "source": [
        "#Importamos las librerias pandas, numpy y matplotlib respectivamente\n",
        "import pandas as pd\n",
        "import numpy as np\n",
        "import matplotlib.pyplot as plt"
      ]
    },
    {
      "cell_type": "code",
      "execution_count": null,
      "metadata": {
        "id": "6sSlHcRBI1b4"
      },
      "outputs": [],
      "source": [
        "df= pd.read_csv('California_EUA.csv') "
      ]
    },
    {
      "cell_type": "code",
      "execution_count": null,
      "metadata": {
        "id": "vCzHF8DE0K4X"
      },
      "outputs": [],
      "source": [
        "#Identificar valores nulos por columna\n",
        "valores_nulos=df.isnull().sum()\n",
        "valores_nulos"
      ]
    },
    {
      "cell_type": "code",
      "execution_count": null,
      "metadata": {
        "id": "ZMW6t7mm7T-0"
      },
      "outputs": [],
      "source": [
        "df = df.drop('neighbourhood_group_cleansed', axis=1)"
      ]
    },
    {
      "cell_type": "code",
      "execution_count": null,
      "metadata": {
        "id": "qGS4TE937UF9"
      },
      "outputs": [],
      "source": [
        "df = df.drop('bathrooms', axis=1)"
      ]
    },
    {
      "cell_type": "code",
      "execution_count": null,
      "metadata": {
        "id": "Szu74T3O8Wui"
      },
      "outputs": [],
      "source": [
        "df = df.drop('calendar_updated', axis=1)"
      ]
    },
    {
      "cell_type": "markdown",
      "metadata": {
        "id": "bVxQef86338m"
      },
      "source": [
        "\n",
        "\n",
        "#**Sustitucion valores**"
      ]
    },
    {
      "cell_type": "code",
      "execution_count": null,
      "metadata": {
        "id": "-tElRz2E33oO"
      },
      "outputs": [],
      "source": [
        "#Realizamos una copia del dataframe\n",
        "data=df.copy()"
      ]
    },
    {
      "cell_type": "code",
      "execution_count": null,
      "metadata": {
        "id": "tRH9kJWq3Q6E"
      },
      "outputs": [],
      "source": [
        "data[\"description\"] =data[\"description\"].fillna(\"sin informacion\") "
      ]
    },
    {
      "cell_type": "code",
      "execution_count": null,
      "metadata": {
        "id": "IkY-nC0n3jva"
      },
      "outputs": [],
      "source": [
        "data[\"neighborhood_overview\"] =data[\"neighborhood_overview\"].fillna(\"sin informacion\") "
      ]
    },
    {
      "cell_type": "code",
      "execution_count": null,
      "metadata": {
        "id": "2XLR6neo3jyv"
      },
      "outputs": [],
      "source": [
        "data[\"host_location\"] =data[\"host_location\"].fillna(\"sin informacion\") "
      ]
    },
    {
      "cell_type": "code",
      "execution_count": null,
      "metadata": {
        "id": "luG7Ik5-3j2M"
      },
      "outputs": [],
      "source": [
        "data[\"host_about\"] =data[\"host_about\"].fillna(\"sin informacion\") "
      ]
    },
    {
      "cell_type": "code",
      "execution_count": null,
      "metadata": {
        "id": "JcJCCwOM3j5R"
      },
      "outputs": [],
      "source": [
        "data[\"host_response_time\"] =data[\"host_response_time\"].fillna(\"sin informacion\") "
      ]
    },
    {
      "cell_type": "code",
      "execution_count": null,
      "metadata": {
        "id": "kiNpM8hs3j8e"
      },
      "outputs": [],
      "source": [
        "data[\"host_response_rate\"] =data[\"host_response_rate\"].fillna(\"0\") "
      ]
    },
    {
      "cell_type": "code",
      "execution_count": null,
      "metadata": {
        "id": "FirEyoK66Wem"
      },
      "outputs": [],
      "source": [
        "data[\"host_acceptance_rate\"] =data[\"host_acceptance_rate\"].fillna(\"0\") "
      ]
    },
    {
      "cell_type": "code",
      "execution_count": null,
      "metadata": {
        "id": "GSbG3QLh6WhT"
      },
      "outputs": [],
      "source": [
        "data[\"host_is_superhost\"] =data[\"host_is_superhost\"].fillna(\"sin informacion\") "
      ]
    },
    {
      "cell_type": "code",
      "execution_count": null,
      "metadata": {
        "id": "-Dc2qglpAk6n"
      },
      "outputs": [],
      "source": [
        "data[\"host_neighbourhood\"] =data[\"host_neighbourhood\"].fillna(\"sin informacion\") "
      ]
    },
    {
      "cell_type": "code",
      "execution_count": null,
      "metadata": {
        "id": "PcSRM0Cg6Wjt"
      },
      "outputs": [],
      "source": [
        "data[\"neighbourhood\"] =data[\"neighbourhood\"].fillna(\"sin informacion\") "
      ]
    },
    {
      "cell_type": "code",
      "execution_count": null,
      "metadata": {
        "id": "O7tTVqay6Wmm"
      },
      "outputs": [],
      "source": [
        "data[\"bathrooms_text\"] =data[\"bathrooms_text\"].fillna(\"sin informacion\") "
      ]
    },
    {
      "cell_type": "code",
      "execution_count": null,
      "metadata": {
        "id": "a4r699fCA5Bf"
      },
      "outputs": [],
      "source": [
        "data[\"bedrooms\"]=data[\"bedrooms\"].fillna(round(data[\"bedrooms\"].mean(),1))"
      ]
    },
    {
      "cell_type": "code",
      "execution_count": null,
      "metadata": {
        "id": "SHDUscqEA5Kk"
      },
      "outputs": [],
      "source": [
        "data[\"beds\"]=data[\"beds\"].fillna(round(data[\"beds\"].mean(),1))"
      ]
    },
    {
      "cell_type": "code",
      "execution_count": null,
      "metadata": {
        "id": "WX6ilI886Wpd"
      },
      "outputs": [],
      "source": [
        "data[\"minimum_minimum_nights\"]=data[\"minimum_minimum_nights\"].fillna(round(data[\"minimum_minimum_nights\"].mean(),1))"
      ]
    },
    {
      "cell_type": "code",
      "execution_count": null,
      "metadata": {
        "id": "iD-O4cbn6Wr7"
      },
      "outputs": [],
      "source": [
        "data[\"maximum_minimum_nights\"]=data[\"maximum_minimum_nights\"].fillna(round(data[\"maximum_minimum_nights\"].mean(),1))"
      ]
    },
    {
      "cell_type": "code",
      "execution_count": null,
      "metadata": {
        "id": "BYFcAb529puI"
      },
      "outputs": [],
      "source": [
        "data[\"minimum_maximum_nights\"]=data[\"minimum_maximum_nights\"].fillna(round(data[\"minimum_maximum_nights\"].mean(),1))"
      ]
    },
    {
      "cell_type": "code",
      "execution_count": null,
      "metadata": {
        "id": "ZQ_LhVgA9pzS"
      },
      "outputs": [],
      "source": [
        "data[\"minimum_maximum_nights\"]=data[\"minimum_maximum_nights\"].fillna(round(data[\"minimum_maximum_nights\"].mean(),1))"
      ]
    },
    {
      "cell_type": "code",
      "execution_count": null,
      "metadata": {
        "id": "kLAYR48l9p4u"
      },
      "outputs": [],
      "source": [
        "data[\"maximum_maximum_nights\"]=data[\"maximum_maximum_nights\"].fillna(round(data[\"maximum_maximum_nights\"].mean(),1))"
      ]
    },
    {
      "cell_type": "code",
      "execution_count": null,
      "metadata": {
        "id": "-XE2PzAi9p77"
      },
      "outputs": [],
      "source": [
        "data[\"minimum_nights_avg_ntm\"]=data[\"minimum_nights_avg_ntm\"].fillna(round(data[\"minimum_nights_avg_ntm\"].mean(),1))"
      ]
    },
    {
      "cell_type": "code",
      "execution_count": null,
      "metadata": {
        "id": "rxUXjVGr9p_B"
      },
      "outputs": [],
      "source": [
        "data[\"maximum_nights_avg_ntm\"]=data[\"maximum_nights_avg_ntm\"].fillna(round(data[\"maximum_nights_avg_ntm\"].mean(),1))"
      ]
    },
    {
      "cell_type": "code",
      "execution_count": null,
      "metadata": {
        "id": "osBJ7l189qB3"
      },
      "outputs": [],
      "source": [
        "data[\"first_review\"] =data[\"first_review\"].fillna(\"sin informacion\") "
      ]
    },
    {
      "cell_type": "code",
      "execution_count": null,
      "metadata": {
        "id": "2QqSyFpw-mPg"
      },
      "outputs": [],
      "source": [
        "data[\"last_review\"] =data[\"last_review\"].fillna(\"sin informacion\") "
      ]
    },
    {
      "cell_type": "code",
      "execution_count": null,
      "metadata": {
        "id": "yvg0HdiJ-mXc"
      },
      "outputs": [],
      "source": [
        "data[\"review_scores_rating\"]=data[\"review_scores_rating\"].fillna(round(data[\"review_scores_rating\"].mean(),1))"
      ]
    },
    {
      "cell_type": "code",
      "execution_count": null,
      "metadata": {
        "id": "tV-tZPjD-0Ov"
      },
      "outputs": [],
      "source": [
        "data[\"review_scores_accuracy\"]=data[\"review_scores_accuracy\"].fillna(round(data[\"review_scores_accuracy\"].mean(),1))"
      ]
    },
    {
      "cell_type": "code",
      "execution_count": null,
      "metadata": {
        "id": "xG8U4puT-0XU"
      },
      "outputs": [],
      "source": [
        "data[\"review_scores_cleanliness\"]=data[\"review_scores_cleanliness\"].fillna(round(data[\"review_scores_cleanliness\"].mean(),1))"
      ]
    },
    {
      "cell_type": "code",
      "execution_count": null,
      "metadata": {
        "id": "cP4R4QLn-0g0"
      },
      "outputs": [],
      "source": [
        "data[\"review_scores_checkin\"]=data[\"review_scores_checkin\"].fillna(round(data[\"review_scores_checkin\"].mean(),1))"
      ]
    },
    {
      "cell_type": "code",
      "execution_count": null,
      "metadata": {
        "id": "TzQ-f6FE-0rO"
      },
      "outputs": [],
      "source": [
        "data[\"review_scores_communication\"]=data[\"review_scores_communication\"].fillna(round(data[\"review_scores_communication\"].mean(),1))"
      ]
    },
    {
      "cell_type": "code",
      "execution_count": null,
      "metadata": {
        "id": "C_96hteQ-01A"
      },
      "outputs": [],
      "source": [
        "data[\"review_scores_location\"]=data[\"review_scores_location\"].fillna(round(data[\"review_scores_location\"].mean(),1))"
      ]
    },
    {
      "cell_type": "code",
      "execution_count": null,
      "metadata": {
        "id": "0EwnFgPS-0-N"
      },
      "outputs": [],
      "source": [
        "data[\"review_scores_value\"]=data[\"review_scores_value\"].fillna(round(data[\"review_scores_value\"].mean(),1))"
      ]
    },
    {
      "cell_type": "code",
      "execution_count": null,
      "metadata": {
        "id": "lsdaWZd1_eCN"
      },
      "outputs": [],
      "source": [
        "data[\"license\"] =data[\"license\"].fillna(\"license\") "
      ]
    },
    {
      "cell_type": "code",
      "execution_count": null,
      "metadata": {
        "id": "stlUfQrv_eJI"
      },
      "outputs": [],
      "source": [
        "data[\"reviews_per_month\"]=data[\"reviews_per_month\"].fillna(round(data[\"reviews_per_month\"].mean(),1))"
      ]
    },
    {
      "cell_type": "code",
      "execution_count": null,
      "metadata": {
        "id": "tD5xGAtqADLI"
      },
      "outputs": [],
      "source": [
        "#Corroboramos valores nulos\n",
        "valores_nulos=data.isnull().sum()\n",
        "valores_nulos"
      ]
    },
    {
      "cell_type": "code",
      "execution_count": null,
      "metadata": {
        "id": "Y4g_O2PH_wMy"
      },
      "outputs": [],
      "source": [
        "#Corroboramos valores nulos en todo el dataframe\n",
        "valores_nulos=data.isnull().sum().sum()\n",
        "valores_nulos"
      ]
    },
    {
      "cell_type": "markdown",
      "source": [
        "#**Outliers**"
      ],
      "metadata": {
        "id": "wH7p4xs-1msx"
      }
    },
    {
      "cell_type": "code",
      "execution_count": null,
      "metadata": {
        "id": "lc2tX_aKCy_x"
      },
      "outputs": [],
      "source": [
        "columnas_cualitativas = data.select_dtypes(include=['object']).columns\n",
        "print(columnas_cualitativas)"
      ]
    },
    {
      "cell_type": "code",
      "execution_count": null,
      "metadata": {
        "id": "qwH5iakNC3jE"
      },
      "outputs": [],
      "source": [
        "columnas_cuantitativas = data.select_dtypes(include=['number']).columns\n",
        "columnas_cuantitativas"
      ]
    },
    {
      "cell_type": "code",
      "execution_count": null,
      "metadata": {
        "id": "TcV0NQ7pKZ92"
      },
      "outputs": [],
      "source": [
        "cualitativas = ['listing_url', 'last_scraped', 'source', 'name', 'description',\n",
        "       'neighborhood_overview', 'picture_url', 'host_url', 'host_name',\n",
        "       'host_since', 'host_location', 'host_about', 'host_response_time',\n",
        "       'host_response_rate', 'host_acceptance_rate', 'host_is_superhost',\n",
        "       'host_thumbnail_url', 'host_picture_url', 'host_neighbourhood',\n",
        "       'host_verifications', 'host_has_profile_pic', 'host_identity_verified',\n",
        "       'neighbourhood', 'neighbourhood_cleansed', 'property_type', 'room_type',\n",
        "       'bathrooms_text', 'amenities', 'price', 'has_availability',\n",
        "       'calendar_last_scraped', 'first_review', 'last_review', 'license',\n",
        "       'instant_bookable']\n",
        "df_copia = data.loc[:, cualitativas].copy()\n",
        "df_copia"
      ]
    },
    {
      "cell_type": "code",
      "execution_count": null,
      "metadata": {
        "id": "YNla4FVdGBxF"
      },
      "outputs": [],
      "source": [
        "#Método aplicando Cuartiles. Encuentro cuartiles 0.25 y 0.75\n",
        "y=data\n",
        "\n",
        "percentile25=y.quantile(0.25) #Q1\n",
        "percentile75=y.quantile(0.75) #Q3\n",
        "iqr= percentile75 - percentile25\n",
        "\n",
        "Limite_Superior_iqr= percentile75 + 1.5*iqr\n",
        "Limite_Inferior_iqr= percentile25 - 1.5*iqr\n",
        "print(\"Limite superior permitido\", Limite_Superior_iqr)\n",
        "print(\"Limite inferior permitido\", Limite_Inferior_iqr)"
      ]
    },
    {
      "cell_type": "code",
      "execution_count": null,
      "metadata": {
        "id": "C31G4EEbGG1U"
      },
      "outputs": [],
      "source": [
        "#Encontramos Outliers del Dataframe\n",
        "outliers_iqr= data[(y>Limite_Superior_iqr)|(y<Limite_Inferior_iqr)]\n",
        "outliers_iqr"
      ]
    },
    {
      "cell_type": "code",
      "execution_count": null,
      "metadata": {
        "id": "vjNKQmtoGJ-a"
      },
      "outputs": [],
      "source": [
        "#Obtenemos datos limpios del Dataframe\n",
        "data2_iqr= data[(y<=Limite_Superior_iqr)&(y>=Limite_Inferior_iqr)]\n",
        "data2_iqr"
      ]
    },
    {
      "cell_type": "code",
      "execution_count": null,
      "metadata": {
        "id": "XQQZwH7hGRzw"
      },
      "outputs": [],
      "source": [
        "#Eliminamos columnas innecesarias\n",
        "data3_iqr= data2_iqr.drop(['listing_url', 'last_scraped', 'source', 'name', 'description',\n",
        "       'neighborhood_overview', 'picture_url', 'host_url', 'host_name',\n",
        "       'host_since', 'host_location', 'host_about', 'host_response_time',\n",
        "       'host_response_rate', 'host_acceptance_rate', 'host_is_superhost',\n",
        "       'host_thumbnail_url', 'host_picture_url', 'host_neighbourhood',\n",
        "       'host_verifications', 'host_has_profile_pic', 'host_identity_verified',\n",
        "       'neighbourhood', 'neighbourhood_cleansed', 'property_type', 'room_type',\n",
        "       'bathrooms_text', 'amenities', 'price', 'has_availability',\n",
        "       'calendar_last_scraped', 'first_review', 'last_review', 'license',\n",
        "       'instant_bookable'], axis=1)\n",
        "data3_iqr"
      ]
    },
    {
      "cell_type": "code",
      "execution_count": null,
      "metadata": {
        "id": "diDe5TaYHKhe"
      },
      "outputs": [],
      "source": [
        "#Corroboramos valores nulos del dataframe LIMPIO\n",
        "valores_nulos=data3_iqr.isnull().sum()\n",
        "valores_nulos"
      ]
    },
    {
      "cell_type": "code",
      "execution_count": null,
      "metadata": {
        "id": "6zBfC9KNHrbD"
      },
      "outputs": [],
      "source": [
        "#Reemplazamos valores atípicos (nulos) del dataframe con \"mean\"\n",
        "#Realizamos una copia del dataframe\n",
        "data4_iqr=data3_iqr.copy()\n",
        "data4_iqr=data4_iqr.fillna(round(data3_iqr.mean(),1))\n",
        "data4_iqr"
      ]
    },
    {
      "cell_type": "code",
      "execution_count": null,
      "metadata": {
        "id": "w_fsWRXzHzm-"
      },
      "outputs": [],
      "source": [
        "#Corroboramos valores nulos del dataframe LIMPIO\n",
        "valores_nulos=data4_iqr.isnull().sum()\n",
        "valores_nulos"
      ]
    },
    {
      "cell_type": "code",
      "execution_count": null,
      "metadata": {
        "id": "5EvKzFp0J-6v"
      },
      "outputs": [],
      "source": [
        "california_frame = pd.concat([data4_iqr, df_copia], axis=1)\n",
        "california_frame.to_csv(\"california.csv\")"
      ]
    },
    {
      "cell_type": "code",
      "execution_count": null,
      "metadata": {
        "colab": {
          "base_uri": "https://localhost:8080/",
          "height": 17
        },
        "id": "1zIHkeo8ZNN4",
        "outputId": "1074606a-0dde-4c7d-e821-99f1f5906538"
      },
      "outputs": [
        {
          "data": {
            "application/javascript": [
              "\n",
              "    async function download(id, filename, size) {\n",
              "      if (!google.colab.kernel.accessAllowed) {\n",
              "        return;\n",
              "      }\n",
              "      const div = document.createElement('div');\n",
              "      const label = document.createElement('label');\n",
              "      label.textContent = `Downloading \"${filename}\": `;\n",
              "      div.appendChild(label);\n",
              "      const progress = document.createElement('progress');\n",
              "      progress.max = size;\n",
              "      div.appendChild(progress);\n",
              "      document.body.appendChild(div);\n",
              "\n",
              "      const buffers = [];\n",
              "      let downloaded = 0;\n",
              "\n",
              "      const channel = await google.colab.kernel.comms.open(id);\n",
              "      // Send a message to notify the kernel that we're ready.\n",
              "      channel.send({})\n",
              "\n",
              "      for await (const message of channel.messages) {\n",
              "        // Send a message to notify the kernel that we're ready.\n",
              "        channel.send({})\n",
              "        if (message.buffers) {\n",
              "          for (const buffer of message.buffers) {\n",
              "            buffers.push(buffer);\n",
              "            downloaded += buffer.byteLength;\n",
              "            progress.value = downloaded;\n",
              "          }\n",
              "        }\n",
              "      }\n",
              "      const blob = new Blob(buffers, {type: 'application/binary'});\n",
              "      const a = document.createElement('a');\n",
              "      a.href = window.URL.createObjectURL(blob);\n",
              "      a.download = filename;\n",
              "      div.appendChild(a);\n",
              "      a.click();\n",
              "      div.remove();\n",
              "    }\n",
              "  "
            ],
            "text/plain": [
              "<IPython.core.display.Javascript object>"
            ]
          },
          "metadata": {},
          "output_type": "display_data"
        },
        {
          "data": {
            "application/javascript": [
              "download(\"download_1980fdac-f44d-4c79-aa92-45863ffd364f\", \"california.csv\", 20427065)"
            ],
            "text/plain": [
              "<IPython.core.display.Javascript object>"
            ]
          },
          "metadata": {},
          "output_type": "display_data"
        }
      ],
      "source": [
        "#descargar archivo filtrado en csv\n",
        "from google.colab import files \n",
        "  \n",
        "  \n",
        "files.download(\"california.csv\")"
      ]
    },
    {
      "cell_type": "markdown",
      "metadata": {
        "id": "W-wvdneXSNmP"
      },
      "source": [
        "#**Extraccion de datos**"
      ]
    },
    {
      "cell_type": "code",
      "execution_count": null,
      "metadata": {
        "colab": {
          "background_save": true
        },
        "id": "PqBZgaxHZVF7"
      },
      "outputs": [],
      "source": [
        "df= pd.read_csv('california.csv') \n",
        "df.head(2)"
      ]
    },
    {
      "cell_type": "code",
      "execution_count": null,
      "metadata": {
        "id": "J5Xj08T3b_vT"
      },
      "outputs": [],
      "source": [
        "#Filtro por comparacion\n",
        "filtro1=df[df[\"host_acceptance_rate\"] > 0.50]\n",
        "filtro1"
      ]
    },
    {
      "cell_type": "code",
      "execution_count": null,
      "metadata": {
        "id": "OPmMXvd6aCZ3"
      },
      "outputs": [],
      "source": [
        "#Filtro por objeto \n",
        "filtro2=df[df[\"host_is_superhost\"] == \"t\"]\n",
        "filtro2"
      ]
    },
    {
      "cell_type": "code",
      "execution_count": null,
      "metadata": {
        "id": "shbrZC7JaXJB"
      },
      "outputs": [],
      "source": [
        "#Filtro por objeto \n",
        "filtro3=df[df[\"host_identity_verified\"] == \"f\"]\n",
        "filtro3"
      ]
    },
    {
      "cell_type": "code",
      "execution_count": null,
      "metadata": {
        "id": "G3nu6mAuf4kF"
      },
      "outputs": [],
      "source": [
        "#Filtro por comparacion\n",
        "filtro5=df[df[\"bedrooms\"] > 1]\n",
        "filtro5"
      ]
    },
    {
      "cell_type": "code",
      "execution_count": null,
      "metadata": {
        "id": "qq5foiMigoXa"
      },
      "outputs": [],
      "source": [
        "#Filtro Y\n",
        "filtro7=df[(df[\"price\"] > 10000) & (df[\"room_type\"] == \"Entire home\")]\n",
        "filtro7"
      ]
    },
    {
      "cell_type": "code",
      "execution_count": null,
      "metadata": {
        "id": "60iig1YvgomI"
      },
      "outputs": [],
      "source": [
        "#Filtro por comparacion\n",
        "filtro6=df[df[\"review_scores_cleanliness\"] > 4.5]\n",
        "filtro6"
      ]
    },
    {
      "cell_type": "code",
      "execution_count": null,
      "metadata": {
        "id": "IOcCo-gsgoox"
      },
      "outputs": [],
      "source": [
        "#Filtro por comparacion\n",
        "filtro6=df[df[\"review_scores_value\"] > 4.9]\n",
        "filtro6"
      ]
    },
    {
      "cell_type": "code",
      "execution_count": null,
      "metadata": {
        "id": "aDdchYJegorQ"
      },
      "outputs": [],
      "source": [
        "#Filtro por comparacion\n",
        "filtro6=df[df[\"availability_365\"] < 100]\n",
        "filtro6"
      ]
    },
    {
      "cell_type": "code",
      "execution_count": null,
      "metadata": {
        "colab": {
          "background_save": true
        },
        "id": "oey2NPJAhSdW"
      },
      "outputs": [],
      "source": [
        "#Filtro por objeto \n",
        "filtro3=df[df[\"host_response_time\"] == \"within an hour\"]\n",
        "filtro3"
      ]
    }
  ],
  "metadata": {
    "colab": {
      "provenance": [],
      "authorship_tag": "ABX9TyNLGQE1deenPs69hq2bi24c",
      "include_colab_link": true
    },
    "kernelspec": {
      "display_name": "Python 3",
      "name": "python3"
    },
    "language_info": {
      "name": "python"
    }
  },
  "nbformat": 4,
  "nbformat_minor": 0
}