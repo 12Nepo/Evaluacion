{
  "cells": [
    {
      "cell_type": "markdown",
      "metadata": {
        "id": "view-in-github",
        "colab_type": "text"
      },
      "source": [
        "<a href=\"https://colab.research.google.com/github/12Nepo/Evaluacion/blob/main/Girona.ipynb\" target=\"_parent\"><img src=\"https://colab.research.google.com/assets/colab-badge.svg\" alt=\"Open In Colab\"/></a>"
      ]
    },
    {
      "cell_type": "code",
      "execution_count": null,
      "metadata": {
        "id": "DcU2dA2otZZX"
      },
      "outputs": [],
      "source": [
        "#Importamos las librerias pandas, numpy y matplotlib respectivamente\n",
        "import pandas as pd\n",
        "import numpy as np\n",
        "import matplotlib.pyplot as plt"
      ]
    },
    {
      "cell_type": "code",
      "execution_count": null,
      "metadata": {
        "id": "fKvTmEt3tdOs"
      },
      "outputs": [],
      "source": [
        "df = pd.read_csv(\"Girona_España.csv\", encoding = \"unicode_escape\")"
      ]
    },
    {
      "cell_type": "code",
      "execution_count": null,
      "metadata": {
        "id": "c5ZKULTCtxTo",
        "colab": {
          "base_uri": "https://localhost:8080/"
        },
        "outputId": "de9a5192-2c92-44c5-d9ee-a3803ac0c585"
      },
      "outputs": [
        {
          "output_type": "execute_result",
          "data": {
            "text/plain": [
              "id                                                 0\n",
              "listing_url                                        0\n",
              "scrape_id                                          0\n",
              "last_scraped                                       0\n",
              "source                                             0\n",
              "                                                ... \n",
              "calculated_host_listings_count                     0\n",
              "calculated_host_listings_count_entire_homes        0\n",
              "calculated_host_listings_count_private_rooms       0\n",
              "calculated_host_listings_count_shared_rooms        0\n",
              "reviews_per_month                               5227\n",
              "Length: 75, dtype: int64"
            ]
          },
          "metadata": {},
          "execution_count": 111
        }
      ],
      "source": [
        "#Identificar valores nulos por columna\n",
        "valores_nulos=df.isnull().sum()\n",
        "valores_nulos"
      ]
    },
    {
      "cell_type": "code",
      "execution_count": null,
      "metadata": {
        "id": "av_7kcPmtxej"
      },
      "outputs": [],
      "source": [
        "#Convertir archivo filtrado a CSV\n",
        "#valores_nulos.to_csv(\"NULOS girona.csv\")"
      ]
    },
    {
      "cell_type": "code",
      "execution_count": null,
      "metadata": {
        "id": "Bze7Q5KztxhA"
      },
      "outputs": [],
      "source": [
        "#descardar archivo filtrado en csv\n",
        "#from google.colab import files \n",
        "  \n",
        "  \n",
        "#files.download(\"NULOS girona.csv\")"
      ]
    },
    {
      "cell_type": "code",
      "execution_count": null,
      "metadata": {
        "id": "r2dghROGtxjg"
      },
      "outputs": [],
      "source": [
        "df = df.drop('neighbourhood_group_cleansed', axis=1)"
      ]
    },
    {
      "cell_type": "code",
      "execution_count": null,
      "metadata": {
        "id": "HKvTWrQ3uxCK"
      },
      "outputs": [],
      "source": [
        "df = df.drop('bathrooms', axis=1)"
      ]
    },
    {
      "cell_type": "code",
      "execution_count": null,
      "metadata": {
        "id": "_0frrvAquxEn"
      },
      "outputs": [],
      "source": [
        "df = df.drop('calendar_updated', axis=1)"
      ]
    },
    {
      "cell_type": "markdown",
      "metadata": {
        "id": "40FSrIhvvYe0"
      },
      "source": [
        "#**Sustitucion valores**"
      ]
    },
    {
      "cell_type": "code",
      "execution_count": null,
      "metadata": {
        "id": "S2Wp3Ny5vYMd"
      },
      "outputs": [],
      "source": [
        "#Realizamos una copia del dataframe\n",
        "data=df.copy()"
      ]
    },
    {
      "cell_type": "code",
      "execution_count": null,
      "metadata": {
        "id": "RUEdlTJevhBy"
      },
      "outputs": [],
      "source": [
        "data[\"description\"] =data[\"description\"].fillna(\"sin informacion\") "
      ]
    },
    {
      "cell_type": "code",
      "execution_count": null,
      "metadata": {
        "id": "mYbEu7zCvhEa"
      },
      "outputs": [],
      "source": [
        "data[\"neighborhood_overview\"] =data[\"neighborhood_overview\"].fillna(\"sin informacion\") "
      ]
    },
    {
      "cell_type": "code",
      "source": [
        "data[\"host_name\"] =data[\"host_name\"].fillna(\"sin informacion\") "
      ],
      "metadata": {
        "id": "ZRt8pCe3p7P2"
      },
      "execution_count": null,
      "outputs": []
    },
    {
      "cell_type": "code",
      "source": [
        "data[\"host_since\"] =data[\"host_since\"].fillna(\"sin informacion\") "
      ],
      "metadata": {
        "id": "on9h6seSp7cT"
      },
      "execution_count": null,
      "outputs": []
    },
    {
      "cell_type": "code",
      "execution_count": null,
      "metadata": {
        "id": "yAfjQqQBvhHR"
      },
      "outputs": [],
      "source": [
        "data[\"host_location\"] =data[\"host_location\"].fillna(\"sin informacion\") "
      ]
    },
    {
      "cell_type": "code",
      "execution_count": null,
      "metadata": {
        "id": "POQC9S1nvhLI"
      },
      "outputs": [],
      "source": [
        "data[\"host_about\"] =data[\"host_about\"].fillna(\"sin informacion\") "
      ]
    },
    {
      "cell_type": "code",
      "execution_count": null,
      "metadata": {
        "id": "S_ZeobQ9vhOR"
      },
      "outputs": [],
      "source": [
        "data[\"host_response_time\"] =data[\"host_response_time\"].fillna(\"0\") "
      ]
    },
    {
      "cell_type": "code",
      "execution_count": null,
      "metadata": {
        "id": "Y0sw-RXQvhQ7"
      },
      "outputs": [],
      "source": [
        "data[\"host_response_rate\"] =data[\"host_response_rate\"].fillna(\"0\") "
      ]
    },
    {
      "cell_type": "code",
      "execution_count": null,
      "metadata": {
        "id": "F6Hw8gOhvhT7"
      },
      "outputs": [],
      "source": [
        "data[\"host_acceptance_rate\"] =data[\"host_acceptance_rate\"].fillna(\"0\") "
      ]
    },
    {
      "cell_type": "code",
      "execution_count": null,
      "metadata": {
        "id": "F-4SYRSYvhWT"
      },
      "outputs": [],
      "source": [
        "data[\"host_is_superhost\"] =data[\"host_is_superhost\"].fillna(\"sin informacion\") "
      ]
    },
    {
      "cell_type": "code",
      "source": [
        "data[\"host_thumbnail_url\"] =data[\"host_thumbnail_url\"].fillna(\"sin informacion\") "
      ],
      "metadata": {
        "id": "NoVSG1AMAaVC"
      },
      "execution_count": null,
      "outputs": []
    },
    {
      "cell_type": "code",
      "source": [
        "data[\"host_picture_url\"] =data[\"host_picture_url\"].fillna(\"sin informacion\") "
      ],
      "metadata": {
        "id": "HlvP4oBrAigA"
      },
      "execution_count": null,
      "outputs": []
    },
    {
      "cell_type": "code",
      "execution_count": null,
      "metadata": {
        "id": "_Y2twFXkvhYt"
      },
      "outputs": [],
      "source": [
        "data[\"host_neighbourhood\"] =data[\"host_neighbourhood\"].fillna(\"sin informacion\") "
      ]
    },
    {
      "cell_type": "code",
      "source": [
        "data[\"host_total_listings_count\"] =data[\"host_total_listings_count\"].fillna(\"sin informacion\") "
      ],
      "metadata": {
        "id": "WsLegOIHIQn5"
      },
      "execution_count": null,
      "outputs": []
    },
    {
      "cell_type": "code",
      "source": [
        "data[\"host_has_profile_pic\"] =data[\"host_has_profile_pic\"].fillna(\"sin informacion\") "
      ],
      "metadata": {
        "id": "UrhBA4pMIQrE"
      },
      "execution_count": null,
      "outputs": []
    },
    {
      "cell_type": "code",
      "source": [
        "data[\"host_identity_verified\"] =data[\"host_identity_verified\"].fillna(\"sin informacion\") "
      ],
      "metadata": {
        "id": "ILpOqHiXIQ8E"
      },
      "execution_count": null,
      "outputs": []
    },
    {
      "cell_type": "code",
      "source": [
        "data[\"license\"] =data[\"license\"].fillna(\"sin informacion\") "
      ],
      "metadata": {
        "id": "bfB2NmQLIQ_k"
      },
      "execution_count": null,
      "outputs": []
    },
    {
      "cell_type": "code",
      "source": [
        "data[\"host_listings_count\"] =data[\"host_listings_count\"].fillna(\"sin informacion\") "
      ],
      "metadata": {
        "id": "qy4dKGSAIR5r"
      },
      "execution_count": null,
      "outputs": []
    },
    {
      "cell_type": "code",
      "execution_count": null,
      "metadata": {
        "id": "hQ634n4FvhbK"
      },
      "outputs": [],
      "source": [
        "data[\"neighbourhood\"] =data[\"neighbourhood\"].fillna(\"sin informacion\") "
      ]
    },
    {
      "cell_type": "code",
      "execution_count": null,
      "metadata": {
        "id": "yuIlOGbfvhdt"
      },
      "outputs": [],
      "source": [
        "data[\"bathrooms_text\"] =data[\"bathrooms_text\"].fillna(\"sin informacion\") "
      ]
    },
    {
      "cell_type": "code",
      "execution_count": null,
      "metadata": {
        "id": "T9ZMjL37vhgC"
      },
      "outputs": [],
      "source": [
        "data[\"bedrooms\"]=data[\"bedrooms\"].fillna(round(data[\"bedrooms\"].mean(),1))"
      ]
    },
    {
      "cell_type": "code",
      "execution_count": null,
      "metadata": {
        "id": "o90WzErNvhip"
      },
      "outputs": [],
      "source": [
        "data[\"beds\"]=data[\"beds\"].fillna(round(data[\"beds\"].mean(),1))"
      ]
    },
    {
      "cell_type": "code",
      "execution_count": null,
      "metadata": {
        "id": "QWgXP6VOvhlC"
      },
      "outputs": [],
      "source": [
        "data[\"minimum_minimum_nights\"]=data[\"minimum_minimum_nights\"].fillna(round(data[\"minimum_minimum_nights\"].mean(),1))"
      ]
    },
    {
      "cell_type": "code",
      "execution_count": null,
      "metadata": {
        "id": "cIi2wSyfvhna"
      },
      "outputs": [],
      "source": [
        "data[\"maximum_minimum_nights\"]=data[\"maximum_minimum_nights\"].fillna(round(data[\"maximum_minimum_nights\"].mean(),1))"
      ]
    },
    {
      "cell_type": "code",
      "execution_count": null,
      "metadata": {
        "id": "rudpebZsyRnT"
      },
      "outputs": [],
      "source": [
        "data[\"minimum_maximum_nights\"]=data[\"minimum_maximum_nights\"].fillna(round(data[\"minimum_maximum_nights\"].mean(),1))"
      ]
    },
    {
      "cell_type": "code",
      "execution_count": null,
      "metadata": {
        "id": "IoXAL910yRqg"
      },
      "outputs": [],
      "source": [
        "data[\"minimum_maximum_nights\"]=data[\"minimum_maximum_nights\"].fillna(round(data[\"minimum_maximum_nights\"].mean(),1))"
      ]
    },
    {
      "cell_type": "code",
      "execution_count": null,
      "metadata": {
        "id": "qt0vP0mFyRta"
      },
      "outputs": [],
      "source": [
        "data[\"minimum_nights_avg_ntm\"]=data[\"minimum_nights_avg_ntm\"].fillna(round(data[\"minimum_nights_avg_ntm\"].mean(),1))"
      ]
    },
    {
      "cell_type": "code",
      "execution_count": null,
      "metadata": {
        "id": "leBOKKkZyRv-"
      },
      "outputs": [],
      "source": [
        "data[\"maximum_nights_avg_ntm\"]=data[\"maximum_nights_avg_ntm\"].fillna(round(data[\"maximum_nights_avg_ntm\"].mean(),1))"
      ]
    },
    {
      "cell_type": "code",
      "execution_count": null,
      "metadata": {
        "id": "s45SzrRC1EWm"
      },
      "outputs": [],
      "source": [
        "data[\"maximum_maximum_nights\"]=data[\"maximum_maximum_nights\"].fillna(round(data[\"maximum_maximum_nights\"].mean(),1))"
      ]
    },
    {
      "cell_type": "code",
      "execution_count": null,
      "metadata": {
        "id": "dZ0t-446yRzA"
      },
      "outputs": [],
      "source": [
        "data[\"first_review\"] =data[\"first_review\"].fillna(\"sin informacion\") "
      ]
    },
    {
      "cell_type": "code",
      "execution_count": null,
      "metadata": {
        "id": "h2CNg_SJynfL"
      },
      "outputs": [],
      "source": [
        "data[\"last_review\"] =data[\"last_review\"].fillna(\"sin informacion\") "
      ]
    },
    {
      "cell_type": "code",
      "execution_count": null,
      "metadata": {
        "id": "diZMNN7vynh-"
      },
      "outputs": [],
      "source": [
        "data[\"review_scores_rating\"]=data[\"review_scores_rating\"].fillna(round(data[\"review_scores_rating\"].mean(),1))"
      ]
    },
    {
      "cell_type": "code",
      "execution_count": null,
      "metadata": {
        "id": "Rq0VC-Abynk0"
      },
      "outputs": [],
      "source": [
        "data[\"review_scores_accuracy\"]=data[\"review_scores_accuracy\"].fillna(round(data[\"review_scores_accuracy\"].mean(),1))"
      ]
    },
    {
      "cell_type": "code",
      "execution_count": null,
      "metadata": {
        "id": "1HwNb4tYynnV"
      },
      "outputs": [],
      "source": [
        "data[\"review_scores_cleanliness\"]=data[\"review_scores_cleanliness\"].fillna(round(data[\"review_scores_cleanliness\"].mean(),1))"
      ]
    },
    {
      "cell_type": "code",
      "execution_count": null,
      "metadata": {
        "id": "gVekBgM4ynpu"
      },
      "outputs": [],
      "source": [
        "data[\"review_scores_checkin\"]=data[\"review_scores_checkin\"].fillna(round(data[\"review_scores_checkin\"].mean(),1))"
      ]
    },
    {
      "cell_type": "code",
      "execution_count": null,
      "metadata": {
        "id": "wlAtKJQ9yntM"
      },
      "outputs": [],
      "source": [
        "data[\"review_scores_communication\"]=data[\"review_scores_communication\"].fillna(round(data[\"review_scores_communication\"].mean(),1))"
      ]
    },
    {
      "cell_type": "code",
      "execution_count": null,
      "metadata": {
        "id": "65iHCTxfzWMN"
      },
      "outputs": [],
      "source": [
        "data[\"review_scores_location\"]=data[\"review_scores_location\"].fillna(round(data[\"review_scores_location\"].mean(),1))"
      ]
    },
    {
      "cell_type": "code",
      "execution_count": null,
      "metadata": {
        "id": "ELCfGnx_zWO9"
      },
      "outputs": [],
      "source": [
        "data[\"instant_bookable\"] =data[\"instant_bookable\"].fillna(\"sin informacion\") "
      ]
    },
    {
      "cell_type": "code",
      "execution_count": null,
      "metadata": {
        "id": "_P-yzL95zWiv"
      },
      "outputs": [],
      "source": [
        "data[\"calculated_host_listings_count\"]=data[\"calculated_host_listings_count\"].fillna(round(data[\"calculated_host_listings_count\"].mean(),1))"
      ]
    },
    {
      "cell_type": "code",
      "execution_count": null,
      "metadata": {
        "id": "d1O8Ce52zzLW"
      },
      "outputs": [],
      "source": [
        "data[\"calculated_host_listings_count_entire_homes\"]=data[\"calculated_host_listings_count_entire_homes\"].fillna(round(data[\"calculated_host_listings_count_entire_homes\"].mean(),1))"
      ]
    },
    {
      "cell_type": "code",
      "execution_count": null,
      "metadata": {
        "id": "4CtyWA28zzWr"
      },
      "outputs": [],
      "source": [
        "data[\"calculated_host_listings_count_private_rooms\"]=data[\"calculated_host_listings_count_private_rooms\"].fillna(round(data[\"calculated_host_listings_count_private_rooms\"].mean(),1))"
      ]
    },
    {
      "cell_type": "code",
      "execution_count": null,
      "metadata": {
        "id": "GOZoBpTOzzfW"
      },
      "outputs": [],
      "source": [
        "data[\"calculated_host_listings_count_shared_rooms\"]=data[\"calculated_host_listings_count_shared_rooms\"].fillna(round(data[\"calculated_host_listings_count_shared_rooms\"].mean(),1))"
      ]
    },
    {
      "cell_type": "code",
      "execution_count": null,
      "metadata": {
        "id": "eWP2YkuFzzpO"
      },
      "outputs": [],
      "source": [
        "data[\"reviews_per_month\"]=data[\"reviews_per_month\"].fillna(round(data[\"reviews_per_month\"].mean(),1))"
      ]
    },
    {
      "cell_type": "code",
      "execution_count": null,
      "metadata": {
        "id": "sqp-pS341UPc"
      },
      "outputs": [],
      "source": [
        "data[\"review_scores_value\"]=data[\"review_scores_value\"].fillna(round(data[\"review_scores_value\"].mean(),1))"
      ]
    },
    {
      "cell_type": "code",
      "source": [
        "#Corroboramos valores nulos en todo el dataframe\n",
        "valores_nulos=data.isnull().sum().sum()\n",
        "valores_nulos"
      ],
      "metadata": {
        "colab": {
          "base_uri": "https://localhost:8080/"
        },
        "id": "yCkU5pWGJEy4",
        "outputId": "cd29f2b4-df14-4b37-852d-d080ed83cbf2"
      },
      "execution_count": null,
      "outputs": [
        {
          "output_type": "execute_result",
          "data": {
            "text/plain": [
              "0"
            ]
          },
          "metadata": {},
          "execution_count": 163
        }
      ]
    },
    {
      "cell_type": "markdown",
      "metadata": {
        "id": "V21kb4d31gg-"
      },
      "source": [
        "#**Outliers**"
      ]
    },
    {
      "cell_type": "code",
      "execution_count": null,
      "metadata": {
        "id": "gI7gH7AY1ihu",
        "colab": {
          "base_uri": "https://localhost:8080/"
        },
        "outputId": "3be2654d-682f-4f95-e3dc-b2dfa6d4f407"
      },
      "outputs": [
        {
          "output_type": "stream",
          "name": "stdout",
          "text": [
            "Index(['listing_url', 'last_scraped', 'source', 'name', 'description',\n",
            "       'neighborhood_overview', 'picture_url', 'host_url', 'host_name',\n",
            "       'host_since', 'host_location', 'host_about', 'host_response_time',\n",
            "       'host_response_rate', 'host_acceptance_rate', 'host_is_superhost',\n",
            "       'host_thumbnail_url', 'host_picture_url', 'host_neighbourhood',\n",
            "       'host_listings_count', 'host_total_listings_count',\n",
            "       'host_verifications', 'host_has_profile_pic', 'host_identity_verified',\n",
            "       'neighbourhood', 'neighbourhood_cleansed', 'property_type', 'room_type',\n",
            "       'bathrooms_text', 'amenities', 'price', 'has_availability',\n",
            "       'calendar_last_scraped', 'first_review', 'last_review', 'license',\n",
            "       'instant_bookable'],\n",
            "      dtype='object')\n"
          ]
        }
      ],
      "source": [
        "columnas_cualitativas = data.select_dtypes(include=['object']).columns\n",
        "print(columnas_cualitativas)"
      ]
    },
    {
      "cell_type": "code",
      "execution_count": null,
      "metadata": {
        "id": "JT06B2De1ila",
        "colab": {
          "base_uri": "https://localhost:8080/"
        },
        "outputId": "a150c2fd-82c4-4705-b1a1-631d57ecda71"
      },
      "outputs": [
        {
          "output_type": "execute_result",
          "data": {
            "text/plain": [
              "Index(['id', 'scrape_id', 'host_id', 'latitude', 'longitude', 'accommodates',\n",
              "       'bedrooms', 'beds', 'minimum_nights', 'maximum_nights',\n",
              "       'minimum_minimum_nights', 'maximum_minimum_nights',\n",
              "       'minimum_maximum_nights', 'maximum_maximum_nights',\n",
              "       'minimum_nights_avg_ntm', 'maximum_nights_avg_ntm', 'availability_30',\n",
              "       'availability_60', 'availability_90', 'availability_365',\n",
              "       'number_of_reviews', 'number_of_reviews_ltm', 'number_of_reviews_l30d',\n",
              "       'review_scores_rating', 'review_scores_accuracy',\n",
              "       'review_scores_cleanliness', 'review_scores_checkin',\n",
              "       'review_scores_communication', 'review_scores_location',\n",
              "       'review_scores_value', 'calculated_host_listings_count',\n",
              "       'calculated_host_listings_count_entire_homes',\n",
              "       'calculated_host_listings_count_private_rooms',\n",
              "       'calculated_host_listings_count_shared_rooms', 'reviews_per_month'],\n",
              "      dtype='object')"
            ]
          },
          "metadata": {},
          "execution_count": 165
        }
      ],
      "source": [
        "columnas_cuantitativas = data.select_dtypes(include=['number']).columns\n",
        "columnas_cuantitativas"
      ]
    },
    {
      "cell_type": "code",
      "execution_count": null,
      "metadata": {
        "id": "A1thSp_p1ior"
      },
      "outputs": [],
      "source": [
        "cualitativas = ['listing_url', 'last_scraped', 'source', 'name', 'description',\n",
        "       'neighborhood_overview', 'picture_url', 'host_url', 'host_name',\n",
        "       'host_since', 'host_location', 'host_about', 'host_response_time',\n",
        "       'host_response_rate', 'host_acceptance_rate', 'host_is_superhost',\n",
        "       'host_thumbnail_url', 'host_picture_url', 'host_neighbourhood',\n",
        "       'host_verifications', 'host_has_profile_pic', 'host_identity_verified',\n",
        "       'neighbourhood', 'neighbourhood_cleansed', 'property_type', 'room_type',\n",
        "       'bathrooms_text', 'amenities', 'price', 'has_availability',\n",
        "       'calendar_last_scraped', 'first_review', 'last_review',\n",
        "       'instant_bookable']\n",
        "df_copia = data.loc[:, cualitativas].copy()\n",
        "df_copia"
      ]
    },
    {
      "cell_type": "code",
      "execution_count": null,
      "metadata": {
        "id": "93SZUDhI1isM"
      },
      "outputs": [],
      "source": [
        "#Método aplicando Cuartiles. Encuentro cuartiles 0.25 y 0.75\n",
        "y=data\n",
        "\n",
        "percentile25=y.quantile(0.25) #Q1\n",
        "percentile75=y.quantile(0.75) #Q3\n",
        "iqr= percentile75 - percentile25\n",
        "\n",
        "Limite_Superior_iqr= percentile75 + 1.5*iqr\n",
        "Limite_Inferior_iqr= percentile25 - 1.5*iqr\n",
        "print(\"Limite superior permitido\", Limite_Superior_iqr)\n",
        "print(\"Limite inferior permitido\", Limite_Inferior_iqr)"
      ]
    },
    {
      "cell_type": "code",
      "execution_count": null,
      "metadata": {
        "id": "D_L0E0ux1iuV"
      },
      "outputs": [],
      "source": [
        "#Encontramos Outliers del Dataframe\n",
        "outliers_iqr= data[(y>Limite_Superior_iqr)|(y<Limite_Inferior_iqr)]\n",
        "outliers_iqr"
      ]
    },
    {
      "cell_type": "code",
      "execution_count": null,
      "metadata": {
        "id": "gVSd_Oqj1ixE"
      },
      "outputs": [],
      "source": [
        "#Obtenemos datos limpios del Dataframe\n",
        "data2_iqr= data[(y<=Limite_Superior_iqr)&(y>=Limite_Inferior_iqr)]\n",
        "data2_iqr"
      ]
    },
    {
      "cell_type": "code",
      "execution_count": null,
      "metadata": {
        "id": "Xjqmx2TB2I45"
      },
      "outputs": [],
      "source": [
        "#Eliminamos columnas innecesarias\n",
        "data3_iqr= data2_iqr.drop(['listing_url', 'last_scraped', 'source', 'name', 'description',\n",
        "       'neighborhood_overview', 'picture_url', 'host_url', 'host_name',\n",
        "       'host_since', 'host_location', 'host_about', 'host_response_time',\n",
        "       'host_response_rate', 'host_acceptance_rate', 'host_is_superhost',\n",
        "       'host_thumbnail_url', 'host_picture_url', 'host_neighbourhood',\n",
        "       'host_listings_count', 'host_total_listings_count',\n",
        "       'host_verifications', 'host_has_profile_pic', 'host_identity_verified',\n",
        "       'neighbourhood', 'neighbourhood_cleansed', 'property_type', 'room_type',\n",
        "       'bathrooms_text', 'amenities', 'price', 'has_availability',\n",
        "       'calendar_last_scraped', 'first_review', 'last_review', 'license',\n",
        "       'instant_bookable'], axis=1)\n",
        "data3_iqr"
      ]
    },
    {
      "cell_type": "code",
      "execution_count": null,
      "metadata": {
        "id": "tTDYlVgS2JAF"
      },
      "outputs": [],
      "source": [
        "#Corroboramos valores nulos del dataframe LIMPIO\n",
        "valores_nulos=data3_iqr.isnull().sum()\n",
        "valores_nulos"
      ]
    },
    {
      "cell_type": "code",
      "execution_count": null,
      "metadata": {
        "id": "88uzqDp12JDN"
      },
      "outputs": [],
      "source": [
        "#Reemplazamos valores atípicos (nulos) del dataframe con \"mean\"\n",
        "#Realizamos una copia del dataframe\n",
        "data4_iqr=data3_iqr.copy()\n",
        "data4_iqr=data4_iqr.fillna(round(data3_iqr.mean(),1))\n",
        "data4_iqr"
      ]
    },
    {
      "cell_type": "code",
      "execution_count": null,
      "metadata": {
        "id": "4LwtibG02Rfm"
      },
      "outputs": [],
      "source": [
        "#Corroboramos valores nulos del dataframe LIMPIO\n",
        "valores_nulos=data4_iqr.isnull().sum()\n",
        "valores_nulos"
      ]
    },
    {
      "cell_type": "code",
      "execution_count": null,
      "metadata": {
        "id": "n-wX7wx02T2S"
      },
      "outputs": [],
      "source": [
        "california_frame = pd.concat([data4_iqr, df_copia], axis=1)\n",
        "california_frame.to_csv(\"Girona.csv\")"
      ]
    },
    {
      "cell_type": "markdown",
      "metadata": {
        "id": "U7Z2vxI52g_f"
      },
      "source": [
        "#**Extraccion de datos**"
      ]
    },
    {
      "cell_type": "code",
      "execution_count": null,
      "metadata": {
        "id": "_N5L8bRNNPTv"
      },
      "outputs": [],
      "source": [
        "df= pd.read_csv('Girona.csv') \n",
        "df.head(2)"
      ]
    },
    {
      "cell_type": "code",
      "execution_count": null,
      "metadata": {
        "id": "AQshoyvX2jPA"
      },
      "outputs": [],
      "source": [
        "#Filtro por comparacion\n",
        "filtro1=df[df[\"host_acceptance_rate\"] > 0.50]\n",
        "filtro1"
      ]
    },
    {
      "cell_type": "code",
      "execution_count": null,
      "metadata": {
        "id": "qKDUn1Bi2jSL"
      },
      "outputs": [],
      "source": [
        "#Filtro por objeto \n",
        "filtro2=df[df[\"host_is_superhost\"] == \"t\"]\n",
        "filtro2"
      ]
    },
    {
      "cell_type": "code",
      "execution_count": null,
      "metadata": {
        "id": "D7lx633P2jVN"
      },
      "outputs": [],
      "source": [
        "#Filtro por objeto \n",
        "filtro3=df[df[\"host_identity_verified\"] == \"f\"]\n",
        "filtro3"
      ]
    },
    {
      "cell_type": "code",
      "execution_count": null,
      "metadata": {
        "id": "rDB43oCJ2jXy"
      },
      "outputs": [],
      "source": [
        "#Filtro por comparacion\n",
        "filtro5=df[df[\"bedrooms\"] > 1]\n",
        "filtro5"
      ]
    },
    {
      "cell_type": "code",
      "execution_count": null,
      "metadata": {
        "id": "fUfeBedSL9IC"
      },
      "outputs": [],
      "source": [
        "#Filtro Y\n",
        "filtro7=df[(df[\"price\"] > 10000) & (df[\"room_type\"] == \"Entire home\")]\n",
        "filtro7"
      ]
    },
    {
      "cell_type": "code",
      "execution_count": null,
      "metadata": {
        "id": "0RJQUy4DL9Ti"
      },
      "outputs": [],
      "source": [
        "#Filtro por comparacion\n",
        "filtro6=df[df[\"review_scores_cleanliness\"] > 4.5]\n",
        "filtro6"
      ]
    },
    {
      "cell_type": "code",
      "execution_count": null,
      "metadata": {
        "id": "mcJwsEZgL9py"
      },
      "outputs": [],
      "source": [
        "#Filtro por comparacion\n",
        "filtro6=df[df[\"review_scores_value\"] > 4.9]\n",
        "filtro6"
      ]
    },
    {
      "cell_type": "code",
      "execution_count": null,
      "metadata": {
        "id": "Y64pVDOXL9so"
      },
      "outputs": [],
      "source": [
        "#Filtro por comparacion\n",
        "filtro6=df[df[\"availability_365\"] < 100]\n",
        "filtro6"
      ]
    },
    {
      "cell_type": "code",
      "execution_count": null,
      "metadata": {
        "id": "vjxuSl5TL-F8"
      },
      "outputs": [],
      "source": [
        "#Filtro por objeto \n",
        "filtro3=df[df[\"host_response_time\"] == \"within an hour\"]\n",
        "filtro3"
      ]
    }
  ],
  "metadata": {
    "colab": {
      "provenance": [],
      "authorship_tag": "ABX9TyM4WhEgMy/C1jiqnxsUtgrq",
      "include_colab_link": true
    },
    "kernelspec": {
      "display_name": "Python 3",
      "name": "python3"
    },
    "language_info": {
      "name": "python"
    }
  },
  "nbformat": 4,
  "nbformat_minor": 0
}